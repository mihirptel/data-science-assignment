{
 "cells": [
  {
   "cell_type": "markdown",
   "id": "e4e4e220",
   "metadata": {},
   "source": [
    "Q Why are functions advantageous to have in your programs? \n",
    "Ans:How would you feel if each time you came home, your house was gone and you had to build a new one?\n",
    "\n",
    "    Just as a house, a function is reusable. It saves your day by having a single solution for a repeating problem \n",
    "    so you don’t have to do the same work over and over again.\n"
   ]
  },
  {
   "cell_type": "markdown",
   "id": "24ae3114",
   "metadata": {},
   "source": [
    "Q When does the code in a function run: when its specified or when its called?\n",
    "Ans:when its called    "
   ]
  },
  {
   "cell_type": "markdown",
   "id": "b6a191c2",
   "metadata": {},
   "source": [
    "Q What statement creates a function?\n",
    "Ans: Name of function(arguments)"
   ]
  },
  {
   "cell_type": "markdown",
   "id": "a4b25b26",
   "metadata": {},
   "source": [
    "Q What is the difference between a function and a function call?\n",
    "Ans:A function is a block of code that does a particular operation and returns a result. It usually accepts inputs \n",
    "    as parameters and returns a result. The parameters are not mandatory. A function call is the code used to pass \n",
    "    control to a function.\n",
    "    function:def sum(a,b)\n",
    "                 return a+b\n",
    "    function call:sum(10,20)"
   ]
  },
  {
   "cell_type": "markdown",
   "id": "7b512750",
   "metadata": {},
   "source": [
    "Q How many global scopes are there in a Python program? How many local scopes?\n",
    "Ans:There is one global scope, and a local scope is created whenever a function is called.    "
   ]
  },
  {
   "cell_type": "markdown",
   "id": "6672eca1",
   "metadata": {},
   "source": [
    "Q What happens to variables in a local scope when the function call returns?\n",
    "Ans:Local variables distroyed"
   ]
  },
  {
   "cell_type": "markdown",
   "id": "036acb23",
   "metadata": {},
   "source": [
    "Q What is the concept of a return value? Is it possible to have a return value in an expression?\n",
    "Ans:A return is a value that a function returns to the calling script or function when it completes its task.Yes \n",
    "    it is possible to have a return value in expression.\n",
    "\n",
    "    "
   ]
  },
  {
   "cell_type": "markdown",
   "id": "4c38faeb",
   "metadata": {},
   "source": [
    "Q If a function does not have a return statement, what is the return value of a call to that function?\n",
    "Ans:If no return statement appears in a function definition, control automatically returns to the calling function \n",
    "    after the last statement of the called function is executed. In this case, the return value of the called function \n",
    "    is undefined."
   ]
  },
  {
   "cell_type": "markdown",
   "id": "af335d3e",
   "metadata": {},
   "source": [
    "Q How do you make a function variable refer to the global variable?\n",
    "Ans:If you want to refer to a global variable in a function, you can use the global keyword to declare which variables \n",
    "    are global."
   ]
  },
  {
   "cell_type": "markdown",
   "id": "f6b5eb55",
   "metadata": {},
   "source": [
    "Q What is the data type of None?\n",
    "Ans:None is a data type of its own (NoneType)"
   ]
  },
  {
   "cell_type": "markdown",
   "id": "f64c3eee",
   "metadata": {},
   "source": [
    "Q What does the sentence import areallyourpetsnamederic do?\n",
    "Ans:That import statement imports a module named areallyourpetsnamederic. "
   ]
  },
  {
   "cell_type": "markdown",
   "id": "2a09c739",
   "metadata": {},
   "source": [
    "Q If you had a bacon() feature in a spam module, what would you call it after importing spam?\n",
    "Ans:spam.bacon()"
   ]
  },
  {
   "cell_type": "markdown",
   "id": "10b213f0",
   "metadata": {},
   "source": [
    "Q What can you do to save a programme from crashing if it encounters an error?\n",
    "Ans:we could move our code inside a try and except statement."
   ]
  },
  {
   "cell_type": "markdown",
   "id": "cce2b46e",
   "metadata": {},
   "source": [
    "Q What can you do to save a programme from crashing if it encounters an error?\n",
    "Ans:The try block lets you test a block of code for errors. The except block lets you handle the error."
   ]
  }
 ],
 "metadata": {
  "kernelspec": {
   "display_name": "Python 3 (ipykernel)",
   "language": "python",
   "name": "python3"
  },
  "language_info": {
   "codemirror_mode": {
    "name": "ipython",
    "version": 3
   },
   "file_extension": ".py",
   "mimetype": "text/x-python",
   "name": "python",
   "nbconvert_exporter": "python",
   "pygments_lexer": "ipython3",
   "version": "3.9.7"
  }
 },
 "nbformat": 4,
 "nbformat_minor": 5
}
