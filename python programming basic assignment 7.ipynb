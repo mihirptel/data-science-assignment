{
 "cells": [
  {
   "cell_type": "code",
   "execution_count": 2,
   "id": "652f3a69",
   "metadata": {},
   "outputs": [
    {
     "name": "stdout",
     "output_type": "stream",
     "text": [
      "please enterr list:1,2,3,4,5\n",
      "sum of array is 15\n"
     ]
    }
   ],
   "source": [
    "#1. Write a Python Program to find sum of array?\n",
    "Array=eval(input('please enter list:'))\n",
    "a=0\n",
    "for i in Array:\n",
    "    a=a+i\n",
    "print('sum of array is',a)"
   ]
  },
  {
   "cell_type": "code",
   "execution_count": 3,
   "id": "85b482b3",
   "metadata": {
    "scrolled": true
   },
   "outputs": [
    {
     "name": "stdout",
     "output_type": "stream",
     "text": [
      "please enter list:1,2,3,4,5\n",
      "Max in array is 5\n"
     ]
    }
   ],
   "source": [
    "#2. Write a Python Program to find largest element in an array?\n",
    "Array=eval(input('please enter list:'))\n",
    "print('Max in array is',max(Array))"
   ]
  },
  {
   "cell_type": "code",
   "execution_count": 6,
   "id": "cf99f7ff",
   "metadata": {},
   "outputs": [
    {
     "name": "stdout",
     "output_type": "stream",
     "text": [
      "please enter list:1,2,3,4,5\n",
      "rotation of Array is [5, 4, 3, 2, 1]\n"
     ]
    }
   ],
   "source": [
    "#3. Write a Python Program for array rotation?\n",
    "Array=eval(input('please enter list:'))\n",
    "print('rotation of Array is',list(Array[::-1]))"
   ]
  },
  {
   "cell_type": "code",
   "execution_count": 7,
   "id": "579d61a1",
   "metadata": {},
   "outputs": [
    {
     "name": "stdout",
     "output_type": "stream",
     "text": [
      "please enter list:1,2,3,4,5,6,7,8,9,10\n",
      "[1, 2, 3, 4, 5]\n",
      "[6, 7, 8, 9, 10]\n"
     ]
    }
   ],
   "source": [
    "#4. Write a Python Program to Split the array and add the first part to the end?\n",
    "Array=eval(input('please enter list:'))\n",
    "n=len(Array)\n",
    "middle_index=n//2\n",
    "first_half=Array[:middle_index]\n",
    "second_half=Array[middle_index:]\n",
    "print(list(first_half))\n",
    "print(list(second_half))"
   ]
  },
  {
   "cell_type": "code",
   "execution_count": 8,
   "id": "ae65d7a4",
   "metadata": {},
   "outputs": [
    {
     "name": "stdout",
     "output_type": "stream",
     "text": [
      "please enter list:10,9,8,7,6,5,4,3,2,1\n",
      "Array is monotonic\n"
     ]
    }
   ],
   "source": [
    "#5. Write a Python Program to check if given array is Monotonic?\n",
    "Array=list(eval(input('please enter list:')))\n",
    "n=Array[1]-Array[0]\n",
    "j=1\n",
    "for i in range(len(Array)-1):\n",
    "    if (Array[i+1]-Array[i])==(n or -n):\n",
    "        j=j+1\n",
    "if j==len(Array):\n",
    "    print('Array is monotonic')\n",
    "else:\n",
    "    print('Array is not monotonic')"
   ]
  }
 ],
 "metadata": {
  "kernelspec": {
   "display_name": "Python 3 (ipykernel)",
   "language": "python",
   "name": "python3"
  },
  "language_info": {
   "codemirror_mode": {
    "name": "ipython",
    "version": 3
   },
   "file_extension": ".py",
   "mimetype": "text/x-python",
   "name": "python",
   "nbconvert_exporter": "python",
   "pygments_lexer": "ipython3",
   "version": "3.9.7"
  }
 },
 "nbformat": 4,
 "nbformat_minor": 5
}
