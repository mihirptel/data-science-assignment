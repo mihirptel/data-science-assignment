{
 "cells": [
  {
   "cell_type": "code",
   "execution_count": 52,
   "id": "767a983a",
   "metadata": {},
   "outputs": [
    {
     "name": "stdout",
     "output_type": "stream",
     "text": [
      "please enter int=28\n",
      "please enter int=78\n",
      "LCM of a,b:  1092\n"
     ]
    }
   ],
   "source": [
    "#1. Write a Python Program to Find LCM?\n",
    "l=[]\n",
    "c=1\n",
    "a=int(input('please enter int='))\n",
    "b=int(input('please enter int='))\n",
    "for i in range(2,(a+1)):\n",
    "    while a%i==0:\n",
    "        a=a/i\n",
    "        l.append(i)\n",
    "for i in l:\n",
    "    if b%i==0:\n",
    "        b=b/i\n",
    "for i in range(2,(int(b)+1)):\n",
    "    while b%i==0:\n",
    "        b=b/i\n",
    "        l.append(i)\n",
    "for i in l:\n",
    "    c=c*i\n",
    "print('LCM of a,b: ',c)\n"
   ]
  },
  {
   "cell_type": "code",
   "execution_count": 10,
   "id": "a53794db",
   "metadata": {
    "scrolled": true
   },
   "outputs": [
    {
     "name": "stdout",
     "output_type": "stream",
     "text": [
      "please enter int=12\n",
      "please enter int=24\n",
      "HCf of a,b:  12\n"
     ]
    }
   ],
   "source": [
    "#2. Write a Python Program to Find HCF?\n",
    "l=[]\n",
    "m=[]\n",
    "n=[]\n",
    "q=[]\n",
    "r=[]\n",
    "c=1\n",
    "a=int(input('please enter int='))\n",
    "b=int(input('please enter int='))\n",
    "for i in range(2,(max(a,b)+1)):\n",
    "    while a%i==0:\n",
    "        a=a/i\n",
    "        l.append(i)\n",
    "        if a==1:\n",
    "            break\n",
    "for j in range(2,(max(a,b)+1)):\n",
    "    while b%j==0:\n",
    "        b=b/j\n",
    "        m.append(j)\n",
    "        if b==1:\n",
    "            break\n",
    "n=list(set(l).intersection(set(m)))\n",
    "for i in range(0,len(n)):\n",
    "    o=l.count(n[i])\n",
    "    p=m.count(n[i])\n",
    "    q.append(min(o,p))\n",
    "for i in range(len(n)):\n",
    "    r.append(n[i]**q[i])\n",
    "for i in r:\n",
    "    c=c*i\n",
    "print('HCf of a,b: ',c)"
   ]
  },
  {
   "cell_type": "code",
   "execution_count": 1,
   "id": "455dd1ec",
   "metadata": {},
   "outputs": [
    {
     "name": "stdout",
     "output_type": "stream",
     "text": [
      "please enter number: 7.2\n",
      "111.001100110011001100110011001100110011001100110011001100\n"
     ]
    }
   ],
   "source": [
    "#3. Write a Python Program to Convert Decimal to Binary, Octal and Hexadecimal?\n",
    "#Binary\n",
    "l=[]\n",
    "m=[]\n",
    "d=[]\n",
    "a=[]\n",
    "s=''\n",
    "n=float(input('please enter number: '))\n",
    "number=int(n)\n",
    "while number>=1:\n",
    "    if (number%2)==0:\n",
    "        l.append(0)\n",
    "        number=int(number/2)\n",
    "    else:\n",
    "        l.append(1)\n",
    "        number=int(number/2)\n",
    "l=l[::-1]\n",
    "for i in range(len(l)):\n",
    "    m.append(str(l[i]))\n",
    "for i in m:\n",
    "    s+=i\n",
    "B=n-int(n)\n",
    "B=round(B,2)\n",
    "while B<1 and B>0:\n",
    "    if (B*2)>1:\n",
    "        B=B*2\n",
    "        a.append(1)\n",
    "        B=B-1\n",
    "    else:\n",
    "        B=B*2\n",
    "        a.append(0)\n",
    "d.append('.')\n",
    "for i in range(len(a)):\n",
    "    d.append(str(a[i]))\n",
    "for i in d:\n",
    "    s+=i\n",
    "print(s)"
   ]
  },
  {
   "cell_type": "code",
   "execution_count": 2,
   "id": "7b72674d",
   "metadata": {},
   "outputs": [
    {
     "name": "stdout",
     "output_type": "stream",
     "text": [
      "please enter number: 7.2\n",
      "7.146314631463146315\n"
     ]
    }
   ],
   "source": [
    "#Octal\n",
    "l=[]\n",
    "m=[]\n",
    "d=[]\n",
    "a=[]\n",
    "s=''\n",
    "n=float(input('please enter number: '))\n",
    "number=int(n)\n",
    "while number>=1:\n",
    "    if (number%8)!=0:\n",
    "        l.append(number%8)\n",
    "        number=int(number/8)\n",
    "    else:\n",
    "        l.append(0)\n",
    "        number=int(number/8)\n",
    "l=l[::-1]\n",
    "for i in range(len(l)):\n",
    "    m.append(str(l[i]))\n",
    "for i in m:\n",
    "    s+=i\n",
    "B=n-int(n)\n",
    "B=round(B,8)\n",
    "while B<1 and B>0:\n",
    "    if (B*8)>1:\n",
    "        B=B*8\n",
    "        a.append(int(B))\n",
    "        B=B-int(B)\n",
    "    else:\n",
    "        B=B*8\n",
    "        a.append(0)\n",
    "d.append('.')\n",
    "for i in range(len(a)):\n",
    "    d.append(str(a[i]))\n",
    "for i in d:\n",
    "    s+=i\n",
    "print(s)\n"
   ]
  },
  {
   "cell_type": "code",
   "execution_count": 3,
   "id": "a2b9fe75",
   "metadata": {},
   "outputs": [
    {
     "name": "stdout",
     "output_type": "stream",
     "text": [
      "please enter number: 7.2\n",
      "7.33333333333334\n"
     ]
    }
   ],
   "source": [
    "#Hexadecimal\n",
    "l=[]\n",
    "m=[]\n",
    "d=[]\n",
    "a=[]\n",
    "s=''\n",
    "n=float(input('please enter number: '))\n",
    "number=int(n)\n",
    "while number>=1:\n",
    "    if (number%16)!=0:\n",
    "        l.append(number%16)\n",
    "        number=int(number/16)\n",
    "    else:\n",
    "        l.append(0)\n",
    "        number=int(number/16)\n",
    "l=l[::-1]\n",
    "for i in range(len(l)):\n",
    "    m.append(str(l[i]))\n",
    "for i in m:\n",
    "    s+=i\n",
    "B=n-int(n)\n",
    "B=round(B,8)\n",
    "while B<1 and B>0:\n",
    "    if (B*16)>1:\n",
    "        B=B*16\n",
    "        a.append(int(B))\n",
    "        B=B-int(B)\n",
    "    else:\n",
    "        B=B*16\n",
    "        a.append(0)\n",
    "d.append('.')\n",
    "for i in range(len(a)):\n",
    "    d.append(str(a[i]))\n",
    "for i in d:\n",
    "    s+=i\n",
    "print(s)"
   ]
  },
  {
   "cell_type": "code",
   "execution_count": 13,
   "id": "efd192d0",
   "metadata": {},
   "outputs": [
    {
     "name": "stdout",
     "output_type": "stream",
     "text": [
      "enter character which ASCII value you want to find:2\n",
      "The ASCII value of '2' is 50\n"
     ]
    }
   ],
   "source": [
    "#4. Write a Python Program To Find ASCII value of a character?\n",
    "c = str(input('enter character which ASCII value you want to find:'))\n",
    "print(\"The ASCII value of '\" + c + \"' is\", ord(c))"
   ]
  },
  {
   "cell_type": "code",
   "execution_count": 21,
   "id": "07b122f3",
   "metadata": {},
   "outputs": [
    {
     "name": "stdout",
     "output_type": "stream",
     "text": [
      "select Operation\n",
      "1.addition\n",
      "2.subtract\n",
      "3.multiply\n",
      "4.division\n",
      "Please Enter input(from 1/2/3/4):1\n",
      "Please enter first number: 10\n",
      "please enter second number: 20\n",
      "10.0 + 20.0 = 30.0\n"
     ]
    }
   ],
   "source": [
    "#5. Write a Python Program to Make a Simple Calculator with 4 basic mathematical operations?\n",
    "def add(a,b):\n",
    "    return a+b\n",
    "def subtract(a,b):\n",
    "    return a-b\n",
    "def multiply(a,b):\n",
    "    return a*b\n",
    "def divide(a,b):\n",
    "    return a/b\n",
    "print('select Operation')\n",
    "print('1.addition')\n",
    "print('2.subtract')\n",
    "print('3.multiply')\n",
    "print('4.division')\n",
    "choise=input('Please Enter input(from 1/2/3/4):')\n",
    "if choise in ('1','2','3','4'):\n",
    "    num1=float(input('Please enter first number: '))\n",
    "    num2=float(input('please enter second number: '))\n",
    "    if choise=='1':\n",
    "        print(num1 ,'+', num2,'=', add(num1,num2))\n",
    "    elif choise=='2':\n",
    "        print(num1 ,'-', num2,'=', subtract(num1,num2))\n",
    "    elif choise=='3':\n",
    "        print(num1 ,'*', num2,'=', multiply(num1,num2))\n",
    "    elif choise=='4':\n",
    "        print(num1 ,'/', num2,'=', divide(num1,num2))\n",
    "else:\n",
    "    print('please enter number from (1,2,3,4)')\n"
   ]
  }
 ],
 "metadata": {
  "kernelspec": {
   "display_name": "Python 3 (ipykernel)",
   "language": "python",
   "name": "python3"
  },
  "language_info": {
   "codemirror_mode": {
    "name": "ipython",
    "version": 3
   },
   "file_extension": ".py",
   "mimetype": "text/x-python",
   "name": "python",
   "nbconvert_exporter": "python",
   "pygments_lexer": "ipython3",
   "version": "3.9.7"
  }
 },
 "nbformat": 4,
 "nbformat_minor": 5
}
