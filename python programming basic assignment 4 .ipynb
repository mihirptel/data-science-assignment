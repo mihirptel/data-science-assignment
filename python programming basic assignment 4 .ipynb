{
 "cells": [
  {
   "cell_type": "code",
   "execution_count": 5,
   "id": "00f1b8ed",
   "metadata": {},
   "outputs": [
    {
     "name": "stdout",
     "output_type": "stream",
     "text": [
      "Enter number: 4\n",
      "24\n"
     ]
    }
   ],
   "source": [
    "#1. Write a Python Program to Find the Factorial of a Number?\n",
    "n=int(input('Enter number: '))\n",
    "y=1\n",
    "for i in range(1,n+1):\n",
    "    x=i\n",
    "    y=y*i\n",
    "print(y)\n",
    "    "
   ]
  },
  {
   "cell_type": "code",
   "execution_count": 6,
   "id": "4a872a0c",
   "metadata": {},
   "outputs": [
    {
     "name": "stdout",
     "output_type": "stream",
     "text": [
      "enter number which multiplication table you want: 10\n",
      "10 * 1 = 10\n",
      "10 * 2 = 20\n",
      "10 * 3 = 30\n",
      "10 * 4 = 40\n",
      "10 * 5 = 50\n",
      "10 * 6 = 60\n",
      "10 * 7 = 70\n",
      "10 * 8 = 80\n",
      "10 * 9 = 90\n",
      "10 * 10 = 100\n"
     ]
    }
   ],
   "source": [
    "#2. Write a Python Program to Display the multiplication Table?\n",
    "number=int(input('enter number which multiplication table you want: '))\n",
    "for i in range(1,11):\n",
    "    n=number*i\n",
    "    print(number,'*',i ,'=',n)"
   ]
  },
  {
   "cell_type": "code",
   "execution_count": 8,
   "id": "e8f05db6",
   "metadata": {},
   "outputs": [
    {
     "name": "stdout",
     "output_type": "stream",
     "text": [
      "enter howmany number you want in fibonacci?: 20\n",
      "[1, 1, 2, 3, 5, 8, 13, 21, 34, 55, 89, 144, 233, 377, 610, 987, 1597, 2584, 4181, 6765]\n"
     ]
    }
   ],
   "source": [
    "#3. Write a Python Program to Print the Fibonacci sequence?\n",
    "n=int(input('enter howmany number you want in fibonacci?: '))\n",
    "l=[]\n",
    "x=1\n",
    "y=1\n",
    "for i in range(n):\n",
    "    l.append(x)\n",
    "    x,y=y,x+y\n",
    "print(l)"
   ]
  },
  {
   "cell_type": "code",
   "execution_count": 7,
   "id": "c90a851c",
   "metadata": {},
   "outputs": [
    {
     "name": "stdout",
     "output_type": "stream",
     "text": [
      "please enter number: 407\n",
      "Number is Armstrong Number\n"
     ]
    }
   ],
   "source": [
    "#4. Write a Python Program to Check Armstrong Number?\n",
    "n=str(input('please enter number: '))\n",
    "l=[]\n",
    "y=0\n",
    "z=0\n",
    "for i in n:\n",
    "    l.append(int(i))\n",
    "for j in range(len(l)):\n",
    "    x=l[j]**3\n",
    "    z=z+x\n",
    "if z==int(n):\n",
    "    print('Number is Armstrong Number')\n",
    "else:\n",
    "    print('Number is not Armstrong Number')    "
   ]
  },
  {
   "cell_type": "code",
   "execution_count": 9,
   "id": "dba3eef0",
   "metadata": {},
   "outputs": [
    {
     "name": "stdout",
     "output_type": "stream",
     "text": [
      "0 is prime number\n",
      "1 is prime number\n",
      "153 is prime number\n",
      "370 is prime number\n",
      "371 is prime number\n",
      "407 is prime number\n"
     ]
    }
   ],
   "source": [
    "#5. Write a Python Program to Find Armstrong Number in an Interval?\n",
    "for k in range(0,1000):\n",
    "    n=str(k)\n",
    "    l=[]\n",
    "    y=0\n",
    "    z=0\n",
    "    for i in n:\n",
    "        l.append(int(i))\n",
    "    for j in range(len(l)):\n",
    "        x=l[j]**3\n",
    "        z=z+x\n",
    "    if z==int(n):\n",
    "        print(n,'is prime number')"
   ]
  },
  {
   "cell_type": "code",
   "execution_count": 15,
   "id": "9267dd5c",
   "metadata": {},
   "outputs": [
    {
     "name": "stdout",
     "output_type": "stream",
     "text": [
      "please enter number which sum you want to find:12\n",
      "78\n"
     ]
    }
   ],
   "source": [
    "#6. Write a Python Program to Find the Sum of Natural Numbers?\n",
    "n=int(input('please enter number which sum you want to find:'))\n",
    "x=0\n",
    "if n > 0:\n",
    "    for i in range(1,n+1):\n",
    "        x=x+i\n",
    "    print(x)\n",
    "else:\n",
    "    print('number is not Natural Number')"
   ]
  }
 ],
 "metadata": {
  "kernelspec": {
   "display_name": "Python 3 (ipykernel)",
   "language": "python",
   "name": "python3"
  },
  "language_info": {
   "codemirror_mode": {
    "name": "ipython",
    "version": 3
   },
   "file_extension": ".py",
   "mimetype": "text/x-python",
   "name": "python",
   "nbconvert_exporter": "python",
   "pygments_lexer": "ipython3",
   "version": "3.9.7"
  }
 },
 "nbformat": 4,
 "nbformat_minor": 5
}
