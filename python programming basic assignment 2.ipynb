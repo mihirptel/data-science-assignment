{
 "cells": [
  {
   "cell_type": "code",
   "execution_count": 6,
   "id": "9dcea974",
   "metadata": {},
   "outputs": [
    {
     "name": "stdout",
     "output_type": "stream",
     "text": [
      "plesase enter kilometers in int:20\n",
      "miles:  32.0\n"
     ]
    }
   ],
   "source": [
    "#1. Write a Python program to convert kilometers to miles?\n",
    "kilometers=int(input('plesase enter kilometers in int:'))\n",
    "m= (1.6*kilometers)\n",
    "print('miles: ',m)"
   ]
  },
  {
   "cell_type": "code",
   "execution_count": 9,
   "id": "b1614b54",
   "metadata": {},
   "outputs": [
    {
     "name": "stdout",
     "output_type": "stream",
     "text": [
      "Enter Celsius in degree:100\n",
      "Celsius:  212.0\n"
     ]
    }
   ],
   "source": [
    "#2. Write a Python program to convert Celsius to Fahrenheit?\n",
    "Celsius=float(input('Enter Celsius in degree:'))\n",
    "F=((Celsius*1.8)+32)\n",
    "print('Celsius: ',F)"
   ]
  },
  {
   "cell_type": "code",
   "execution_count": 1,
   "id": "fec7bf2e",
   "metadata": {},
   "outputs": [
    {
     "name": "stdout",
     "output_type": "stream",
     "text": [
      "Please enter year: 2020\n",
      "please enter number of month: 3\n",
      "     March 2020\n",
      "Mo Tu We Th Fr Sa Su\n",
      "                   1\n",
      " 2  3  4  5  6  7  8\n",
      " 9 10 11 12 13 14 15\n",
      "16 17 18 19 20 21 22\n",
      "23 24 25 26 27 28 29\n",
      "30 31\n",
      "\n"
     ]
    }
   ],
   "source": [
    "#3. Write a Python program to display calendar?\n",
    "year=int(input('Please enter year: '))\n",
    "month=int(input('please enter number of month: '))\n",
    "import calendar\n",
    "print(calendar.month(year,month))\n",
    "\n"
   ]
  },
  {
   "cell_type": "code",
   "execution_count": 11,
   "id": "f2cdbc79",
   "metadata": {},
   "outputs": [
    {
     "name": "stdout",
     "output_type": "stream",
     "text": [
      "value of x: 0.0 -1.0\n"
     ]
    }
   ],
   "source": [
    "#4. Write a Python program to solve quadratic equation?\n",
    "a=1\n",
    "b=1\n",
    "c=0\n",
    "float(a)\n",
    "float(b)\n",
    "float(c)\n",
    "x1=((-b)+((((-b)**2)-(4*a*c))**(1/2)))/(2*a)\n",
    "x2=((-b)-((((-b)**2)-(4*a*c))**(1/2)))/(2*a)\n",
    "print('value of x:', x1, x2)"
   ]
  },
  {
   "cell_type": "code",
   "execution_count": 12,
   "id": "3c79e611",
   "metadata": {},
   "outputs": [
    {
     "name": "stdout",
     "output_type": "stream",
     "text": [
      "x: 10\n",
      "y: 20\n",
      "before swap:  10 20\n",
      "after swap:  20 10\n"
     ]
    }
   ],
   "source": [
    "#5. Write a Python program to swap two variables without temp variable?\n",
    "x=input('x: ')\n",
    "y=input('y: ')\n",
    "print('before swap: ',x,y)\n",
    "x,y=y,x\n",
    "print('after swap: ',x,y)"
   ]
  },
  {
   "cell_type": "code",
   "execution_count": null,
   "id": "512771cc",
   "metadata": {},
   "outputs": [],
   "source": []
  }
 ],
 "metadata": {
  "kernelspec": {
   "display_name": "Python 3 (ipykernel)",
   "language": "python",
   "name": "python3"
  },
  "language_info": {
   "codemirror_mode": {
    "name": "ipython",
    "version": 3
   },
   "file_extension": ".py",
   "mimetype": "text/x-python",
   "name": "python",
   "nbconvert_exporter": "python",
   "pygments_lexer": "ipython3",
   "version": "3.9.7"
  }
 },
 "nbformat": 4,
 "nbformat_minor": 5
}
