{
 "cells": [
  {
   "cell_type": "markdown",
   "id": "5efcc8ac",
   "metadata": {},
   "source": [
    "1. In the below elements which of them are values or an expression? eg:- values can be\n",
    "integer or string and expressions will be mathematical operators.\n",
    "Ans:\n",
    "* = an expressions\n",
    "hello = values\n",
    "-87.8 = values\n",
    "- = an expression\n",
    "/ = an expression\n",
    "+ = an expression\n",
    "6 = values"
   ]
  },
  {
   "cell_type": "markdown",
   "id": "99882d53",
   "metadata": {},
   "source": [
    "2. What is the difference between string and variable?\n",
    "Ans:A Variable is a store of information, and a String is a type of information you would store in a Variable"
   ]
  },
  {
   "cell_type": "markdown",
   "id": "bbd82244",
   "metadata": {},
   "source": [
    "3. Describe three different data types.\n",
    "Ans:Integers – This value is represented by int class. It contains positive or negative whole numbers (without fraction or \n",
    "decimal). In Python there is no limit to how long an integer value can be.\n",
    "Float – This value is represented by float class. It is a real number with floating point representation. It is specified \n",
    "by a decimal point.\n",
    "string - In Python, Strings are arrays of bytes representing Unicode characters. A string is a collection of one or more \n",
    "characters put in a single quote, double-quote or triple quote."
   ]
  },
  {
   "cell_type": "markdown",
   "id": "d35be080",
   "metadata": {},
   "source": [
    "4. What is an expression made up of? What do all expressions do?\n",
    "Ans:expression:An expression is a combination of operators and operands that is interpreted to produce some other value.An \n",
    "expression is a construct made up of variables, operators, and method invocations, which are constructed according to \n",
    "the syntax of the language, that evaluates to a value."
   ]
  },
  {
   "cell_type": "markdown",
   "id": "70de8e18",
   "metadata": {},
   "source": [
    "5. This assignment statements, like spam = 10. What is the difference between an\n",
    "expression and a statement?\n",
    "Ans:Expression is made up of values, containers, and mathematical operators (operands) and the statement is just like \n",
    "a command that a python interpreter executes like print."
   ]
  },
  {
   "cell_type": "markdown",
   "id": "7a16be8c",
   "metadata": {},
   "source": [
    "6. After running the following code, what does the variable bacon contain?\n",
    "bacon = 22\n",
    "bacon +1\n",
    "=23\n"
   ]
  },
  {
   "cell_type": "code",
   "execution_count": 15,
   "id": "f2857a3f",
   "metadata": {},
   "outputs": [
    {
     "data": {
      "text/plain": [
       "'spamspamspam'"
      ]
     },
     "execution_count": 15,
     "metadata": {},
     "output_type": "execute_result"
    }
   ],
   "source": [
    "#7. What should the values of the following two terms be?\n",
    "'spam' + 'spamspam'"
   ]
  },
  {
   "cell_type": "code",
   "execution_count": 17,
   "id": "f18cfb43",
   "metadata": {},
   "outputs": [
    {
     "data": {
      "text/plain": [
       "'spamspamspam'"
      ]
     },
     "execution_count": 17,
     "metadata": {},
     "output_type": "execute_result"
    }
   ],
   "source": [
    "'spam'*3"
   ]
  },
  {
   "cell_type": "markdown",
   "id": "447b2e15",
   "metadata": {},
   "source": [
    "8. Why is eggs a valid variable name while 100 is invalid?\n",
    "Ans:variable names cannot begin with a number"
   ]
  },
  {
   "cell_type": "markdown",
   "id": "6ab1127c",
   "metadata": {},
   "source": [
    "9. What three functions can be used to get the integer, floating-point number, or string\n",
    "version of a value?\n",
    "Ans:The int(), float(), and str() functions will evaluate to the integer, floating-point number, and string versions \n",
    "of the value passed to them."
   ]
  },
  {
   "cell_type": "markdown",
   "id": "bbcdb4b4",
   "metadata": {},
   "source": [
    "10. Why does this expression cause an error? How can you fix it?\n",
    "'I have eaten'+99+'burritos'\n",
    "Ans:can only concatenate str (not \"int\") to str.currect:'I have eaten 99 burritos' or 'I have eaten'+string(99)+'burritos'\n",
    "    "
   ]
  },
  {
   "cell_type": "code",
   "execution_count": null,
   "id": "7b5e801f",
   "metadata": {},
   "outputs": [],
   "source": []
  }
 ],
 "metadata": {
  "kernelspec": {
   "display_name": "Python 3 (ipykernel)",
   "language": "python",
   "name": "python3"
  },
  "language_info": {
   "codemirror_mode": {
    "name": "ipython",
    "version": 3
   },
   "file_extension": ".py",
   "mimetype": "text/x-python",
   "name": "python",
   "nbconvert_exporter": "python",
   "pygments_lexer": "ipython3",
   "version": "3.9.7"
  }
 },
 "nbformat": 4,
 "nbformat_minor": 5
}
