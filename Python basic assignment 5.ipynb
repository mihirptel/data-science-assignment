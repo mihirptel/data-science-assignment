{
 "cells": [
  {
   "cell_type": "markdown",
   "id": "15d46076",
   "metadata": {},
   "source": [
    "1. What does an empty dictionary's code look like?\n",
    "Ans:name_of_dic={}"
   ]
  },
  {
   "cell_type": "code",
   "execution_count": 7,
   "id": "90b355e1",
   "metadata": {},
   "outputs": [
    {
     "data": {
      "text/plain": [
       "dict_values([42])"
      ]
     },
     "execution_count": 7,
     "metadata": {},
     "output_type": "execute_result"
    }
   ],
   "source": [
    "#2. What is the value of a dictionary value with the key foo and the value 42?\n",
    "a={'foo':42}\n",
    "a.values()"
   ]
  },
  {
   "cell_type": "markdown",
   "id": "00126b7b",
   "metadata": {},
   "source": [
    "3. What is the most significant distinction between a dictionary and a list?\n",
    "Ans:the main difference is that items in dictionaries are accessed via keys and not via their position.The Items stored in a \n",
    "    dictionary are Unordered , while the items in a list are ordered"
   ]
  },
  {
   "cell_type": "code",
   "execution_count": 8,
   "id": "da1d97a0",
   "metadata": {},
   "outputs": [
    {
     "ename": "KeyError",
     "evalue": "'foo'",
     "output_type": "error",
     "traceback": [
      "\u001b[1;31m---------------------------------------------------------------------------\u001b[0m",
      "\u001b[1;31mKeyError\u001b[0m                                  Traceback (most recent call last)",
      "\u001b[1;32m~\\AppData\\Local\\Temp/ipykernel_1124/707104811.py\u001b[0m in \u001b[0;36m<module>\u001b[1;34m\u001b[0m\n\u001b[0;32m      1\u001b[0m \u001b[1;31m#4. What happens if you try to access spam['foo'] if spam is {'bar':100}?\u001b[0m\u001b[1;33m\u001b[0m\u001b[1;33m\u001b[0m\u001b[0m\n\u001b[0;32m      2\u001b[0m \u001b[0mspam\u001b[0m\u001b[1;33m=\u001b[0m\u001b[1;33m{\u001b[0m\u001b[1;34m'bar'\u001b[0m\u001b[1;33m:\u001b[0m\u001b[1;36m100\u001b[0m\u001b[1;33m}\u001b[0m\u001b[1;33m\u001b[0m\u001b[1;33m\u001b[0m\u001b[0m\n\u001b[1;32m----> 3\u001b[1;33m \u001b[0mspam\u001b[0m\u001b[1;33m[\u001b[0m\u001b[1;34m'foo'\u001b[0m\u001b[1;33m]\u001b[0m\u001b[1;33m\u001b[0m\u001b[1;33m\u001b[0m\u001b[0m\n\u001b[0m",
      "\u001b[1;31mKeyError\u001b[0m: 'foo'"
     ]
    }
   ],
   "source": [
    "#4. What happens if you try to access spam['foo'] if spam is {'bar':100}?\n",
    "spam={'bar':100}\n",
    "spam['foo']"
   ]
  },
  {
   "cell_type": "code",
   "execution_count": 9,
   "id": "a5c14c91",
   "metadata": {},
   "outputs": [
    {
     "name": "stdout",
     "output_type": "stream",
     "text": [
      "True\n",
      "True\n"
     ]
    }
   ],
   "source": [
    "#5. If a dictionary is stored in spam, what is the difference between the expressions 'cat' in spam and\n",
    "#'cat' in spam.keys()?\n",
    "spam={'cat':100}\n",
    "print('cat' in spam)\n",
    "print('cat' in spam.keys())#no difference"
   ]
  },
  {
   "cell_type": "code",
   "execution_count": 10,
   "id": "a0431e7c",
   "metadata": {},
   "outputs": [
    {
     "name": "stdout",
     "output_type": "stream",
     "text": [
      "True\n",
      "False\n",
      "False\n",
      "True\n"
     ]
    }
   ],
   "source": [
    "#6. If a dictionary is stored in spam, what is the difference between the expressions 'cat' in spam and\n",
    "#'cat' in spam.values()?\n",
    "spam1={'cat':100}\n",
    "spam2={'100':'cat'}\n",
    "print('cat' in spam1)#check cat in keys\n",
    "print('cat' in spam1.values())#check cat in values\n",
    "print('cat' in spam2)\n",
    "print('cat' in spam2.values())"
   ]
  },
  {
   "cell_type": "code",
   "execution_count": 19,
   "id": "bd90155d",
   "metadata": {},
   "outputs": [
    {
     "name": "stdout",
     "output_type": "stream",
     "text": [
      "{'cat': 100, 'color': 'black'}\n"
     ]
    }
   ],
   "source": [
    "#7. What is a shortcut for the following code?\n",
    "spam={'cat':100}\n",
    "if 'color' not in spam:\n",
    "    spam['color'] = 'black'\n",
    "print(spam)"
   ]
  },
  {
   "cell_type": "code",
   "execution_count": 22,
   "id": "6ffddd9f",
   "metadata": {},
   "outputs": [
    {
     "name": "stdout",
     "output_type": "stream",
     "text": [
      "{'cat': 100, 'colour': 'black'}\n"
     ]
    }
   ],
   "source": [
    "spam={'cat':100}\n",
    "spam.setdefault('colour','black')\n",
    "print(spam)"
   ]
  },
  {
   "cell_type": "code",
   "execution_count": 23,
   "id": "5f40f53d",
   "metadata": {},
   "outputs": [
    {
     "name": "stdout",
     "output_type": "stream",
     "text": [
      "Object `function` not found.\n",
      "[{'Age': '20', 'Country': 'India', 'Name': 'mihir'},\n",
      " {'Age': '30', 'Country': 'China', 'Name': 'meet'},\n",
      " {'Age': '40', 'Country': 'UK', 'Name': 'ashish'},\n",
      " {'Age': '350', 'Country': 'USA', 'Name': 'hardik'}]\n"
     ]
    }
   ],
   "source": [
    "#8. How do you 'pretty print' dictionary values using which module and function?\n",
    "import pprint\n",
    "dct = [ {'Name': 'mihir', 'Age': '20', 'Country': 'India'},\n",
    "  {'Name': 'meet', 'Age': '30', 'Country': 'China'},\n",
    "  {'Name': 'ashish', 'Age': '40', 'Country': 'UK'},\n",
    "  {'Name': 'hardik', 'Age': '350', 'Country': 'USA'}\n",
    "]\n",
    "pprint.pprint(dct)"
   ]
  },
  {
   "cell_type": "code",
   "execution_count": 24,
   "id": "28316e1e",
   "metadata": {},
   "outputs": [
    {
     "name": "stdout",
     "output_type": "stream",
     "text": [
      "[{'Name': 'mihir', 'Age': '20', 'Country': 'India'}, {'Name': 'meet', 'Age': '30', 'Country': 'China'}, {'Name': 'ashish', 'Age': '40', 'Country': 'UK'}, {'Name': 'hardik', 'Age': '350', 'Country': 'USA'}]\n"
     ]
    }
   ],
   "source": [
    "print(dct)"
   ]
  }
 ],
 "metadata": {
  "kernelspec": {
   "display_name": "Python 3 (ipykernel)",
   "language": "python",
   "name": "python3"
  },
  "language_info": {
   "codemirror_mode": {
    "name": "ipython",
    "version": 3
   },
   "file_extension": ".py",
   "mimetype": "text/x-python",
   "name": "python",
   "nbconvert_exporter": "python",
   "pygments_lexer": "ipython3",
   "version": "3.9.7"
  }
 },
 "nbformat": 4,
 "nbformat_minor": 5
}
