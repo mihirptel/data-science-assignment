{
 "cells": [
  {
   "cell_type": "markdown",
   "id": "bafbf633",
   "metadata": {},
   "source": [
    "1. What exactly is []?\n",
    "Ans:The empty list value, which is a list value that contains no items."
   ]
  },
  {
   "cell_type": "code",
   "execution_count": 4,
   "id": "f05ef589",
   "metadata": {},
   "outputs": [
    {
     "data": {
      "text/plain": [
       "[2, 4, 'hello', 8, 10]"
      ]
     },
     "execution_count": 4,
     "metadata": {},
     "output_type": "execute_result"
    }
   ],
   "source": [
    "#2. In a list of values stored in a variable called spam, how would you assign the value hello as the\n",
    "#third value?\n",
    "spam=[2,4,6,8,10]\n",
    "spam[2]='hello'\n",
    "spam"
   ]
  },
  {
   "cell_type": "code",
   "execution_count": 6,
   "id": "b8106771",
   "metadata": {},
   "outputs": [
    {
     "data": {
      "text/plain": [
       "'d'"
      ]
     },
     "execution_count": 6,
     "metadata": {},
     "output_type": "execute_result"
    }
   ],
   "source": [
    "#Let's pretend the spam includes the list ['a', 'b', 'c', 'd'] for the next three queries.\n",
    "#3. What is the value of spam[int(int('3' * 2) / 11)]?\n",
    "spam=['a','b','c','d']\n",
    "spam[int(int('3'*2)/11)]"
   ]
  },
  {
   "cell_type": "code",
   "execution_count": 7,
   "id": "6b7afba6",
   "metadata": {},
   "outputs": [
    {
     "data": {
      "text/plain": [
       "'d'"
      ]
     },
     "execution_count": 7,
     "metadata": {},
     "output_type": "execute_result"
    }
   ],
   "source": [
    "#4. What is the value of spam[-1]?\n",
    "spam[-1]"
   ]
  },
  {
   "cell_type": "code",
   "execution_count": 8,
   "id": "926fce54",
   "metadata": {},
   "outputs": [
    {
     "data": {
      "text/plain": [
       "['a', 'b']"
      ]
     },
     "execution_count": 8,
     "metadata": {},
     "output_type": "execute_result"
    }
   ],
   "source": [
    "#5. What is the value of spam[:2]?\n",
    "spam[:2]"
   ]
  },
  {
   "cell_type": "code",
   "execution_count": 9,
   "id": "7b5f08d7",
   "metadata": {},
   "outputs": [
    {
     "data": {
      "text/plain": [
       "1"
      ]
     },
     "execution_count": 9,
     "metadata": {},
     "output_type": "execute_result"
    }
   ],
   "source": [
    "#Let's pretend bacon has the list [3.14, 'cat', 11 ,'cat', True] for the next three questions.\n",
    "#6. What is the value of bacon.index('cat')?\n",
    "beacon=[3.14,'cat',11,'cat',True]\n",
    "beacon.index('cat')"
   ]
  },
  {
   "cell_type": "code",
   "execution_count": 11,
   "id": "a7ec62d7",
   "metadata": {},
   "outputs": [
    {
     "data": {
      "text/plain": [
       "[3.14, 'cat', 11, 'cat', True, 99]"
      ]
     },
     "execution_count": 11,
     "metadata": {},
     "output_type": "execute_result"
    }
   ],
   "source": [
    "#7. How does bacon.append(99) change the look of the list value in bacon?\n",
    "beacon.append(99)\n",
    "beacon"
   ]
  },
  {
   "cell_type": "code",
   "execution_count": 13,
   "id": "01692006",
   "metadata": {},
   "outputs": [
    {
     "data": {
      "text/plain": [
       "[3.14, 11, 'cat', True]"
      ]
     },
     "execution_count": 13,
     "metadata": {},
     "output_type": "execute_result"
    }
   ],
   "source": [
    "#8. How does bacon.remove('cat') change the look of the list in bacon?\n",
    "beacon=[3.14,'cat',11,'cat',True]\n",
    "beacon.remove('cat')\n",
    "beacon"
   ]
  },
  {
   "cell_type": "markdown",
   "id": "b37bbc89",
   "metadata": {},
   "source": [
    "9. What are the list concatenation and list replication operators?\n",
    "Ans:operator for list concatenation is +, and for list replication *. e.g. for list concatenation, \n",
    "    a=[1,2,3] b=[4,5,6] c = a+b c will be [1,2,3,4,5,6] for list replication, c= a*3 c will be [1,2,3,1,2,3,1,2,3]"
   ]
  },
  {
   "cell_type": "markdown",
   "id": "b046234e",
   "metadata": {},
   "source": [
    "10. What is difference between the list methods append() and insert()?\n",
    "Ans:insert function allows us to add a specific element at a specified index of the list unlike append() where we \n",
    "    can add the element only at end of the list."
   ]
  },
  {
   "cell_type": "markdown",
   "id": "343d89e2",
   "metadata": {},
   "source": [
    "11. What are the two methods for removing items from a list?\n",
    "Ans:The methods are remove(), pop() and clear(). remove() helps to remove the very first given element matching from the list. \n",
    "    The pop() method removes an element from the list based on the index given. The clear() method will remove all the elements \n",
    "    present in the list."
   ]
  },
  {
   "cell_type": "markdown",
   "id": "5335b955",
   "metadata": {},
   "source": [
    "12. Describe how list values and string values are identical.\n",
    "Ans:Lists are similar to strings, which are ordered collections of characters, except that the elements of a list can \n",
    "    have any type and for any one list, the items can be of different types."
   ]
  },
  {
   "cell_type": "markdown",
   "id": "8cef7617",
   "metadata": {},
   "source": [
    "13. What's the difference between tuples and lists?\n",
    "Ans:The key difference between the tuples and lists is that while the tuples are immutable objects the lists are mutable. \n",
    "    This means that tuples cannot be changed while the lists can be modified. Tuples are more memory efficient than the lists"
   ]
  },
  {
   "cell_type": "code",
   "execution_count": 1,
   "id": "d7981a69",
   "metadata": {},
   "outputs": [
    {
     "name": "stdout",
     "output_type": "stream",
     "text": [
      "<class 'int'>\n",
      "<class 'tuple'>\n"
     ]
    }
   ],
   "source": [
    "#14. How do you type a tuple value that only contains the integer 42?\n",
    "#Ans:\n",
    "tuple1=(42)\n",
    "tuple2=(42,)\n",
    "print(type(tuple1))\n",
    "print(type(tuple2))"
   ]
  },
  {
   "cell_type": "code",
   "execution_count": 2,
   "id": "04bedf24",
   "metadata": {},
   "outputs": [
    {
     "name": "stdout",
     "output_type": "stream",
     "text": [
      "[1, 2, 3, 4, 5]\n",
      "(1, 2, 3, 4, 5)\n"
     ]
    }
   ],
   "source": [
    "#15. How do you get a list value's tuple form? How do you get a tuple value's list form?\n",
    "#Ans:\n",
    "a=(1,2,3,4,5)\n",
    "b=list(a)\n",
    "c=tuple(b)\n",
    "print(b)\n",
    "print(c)"
   ]
  },
  {
   "cell_type": "markdown",
   "id": "ccfd8a2e",
   "metadata": {},
   "source": [
    "16. Variables that 'contain' list values are not necessarily lists themselves. Instead, what do they\n",
    "contain?\n",
    "Ans:They contain references to list values."
   ]
  },
  {
   "cell_type": "markdown",
   "id": "51978e5c",
   "metadata": {},
   "source": [
    "17. How do you distinguish between copy.copy() and copy.deepcopy()?\n",
    "Ans:copy() create reference to original object. If you change copied object - you change the original object.\n",
    "    deepcopy() creates new object and does real copying of original object to new one. Changing new deepcopied object doesn't \n",
    "    affect original object."
   ]
  }
 ],
 "metadata": {
  "kernelspec": {
   "display_name": "Python 3 (ipykernel)",
   "language": "python",
   "name": "python3"
  },
  "language_info": {
   "codemirror_mode": {
    "name": "ipython",
    "version": 3
   },
   "file_extension": ".py",
   "mimetype": "text/x-python",
   "name": "python",
   "nbconvert_exporter": "python",
   "pygments_lexer": "ipython3",
   "version": "3.9.7"
  }
 },
 "nbformat": 4,
 "nbformat_minor": 5
}
