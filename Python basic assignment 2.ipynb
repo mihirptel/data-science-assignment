{
 "cells": [
  {
   "cell_type": "code",
   "execution_count": 9,
   "id": "ecbf63fc",
   "metadata": {},
   "outputs": [
    {
     "data": {
      "text/plain": [
       "True"
      ]
     },
     "execution_count": 9,
     "metadata": {},
     "output_type": "execute_result"
    }
   ],
   "source": [
    "#1.What are the two values of the Boolean data type? How do you write them?\n",
    "#Ans:two values is True and False.\n",
    "a=1\n",
    "a==1\n"
   ]
  },
  {
   "cell_type": "code",
   "execution_count": 8,
   "id": "58bd1977",
   "metadata": {},
   "outputs": [
    {
     "data": {
      "text/plain": [
       "False"
      ]
     },
     "execution_count": 8,
     "metadata": {},
     "output_type": "execute_result"
    }
   ],
   "source": [
    "b=2\n",
    "b==0"
   ]
  },
  {
   "cell_type": "markdown",
   "id": "48dfa99c",
   "metadata": {},
   "source": [
    "2. What are the three different types of Boolean operators?\n",
    "\n",
    "Ans:AND,OR and NOT "
   ]
  },
  {
   "cell_type": "markdown",
   "id": "f35b6581",
   "metadata": {},
   "source": [
    "3. Make a list of each Boolean operator truth tables?\n",
    "\n",
    "Ans:\n",
    "For AND\n",
    "False + False = False \n",
    "False + True  = False \n",
    "True  + False = False \n",
    "True  + True  = True \n",
    "    \n",
    "For OR\n",
    "False + False = False \n",
    "False + True  = True \n",
    "True  + False = True \n",
    "True  + True  = True \n",
    "    \n",
    "For NOT\n",
    "True = False \n",
    "False = True \n",
    "    "
   ]
  },
  {
   "cell_type": "markdown",
   "id": "31a3563c",
   "metadata": {},
   "source": [
    "4. What are the values of the following expressions?\n",
    "\n",
    "Ans:\n",
    "(5 > 4) and (3 == 5) :False\n",
    "not (5 > 4) :False\n",
    "(5 > 4) or (3 == 5) :True\n",
    "not ((5 > 4) or (3 == 5)) :False\n",
    "(True and True) and (True == False) :False\n",
    "(not False) or (not True) :True\n"
   ]
  },
  {
   "cell_type": "markdown",
   "id": "954aecdc",
   "metadata": {},
   "source": [
    "5. What are the six comparison operators?\n",
    "\n",
    "Ans:\n",
    "equal to, not equal to, greater than, greater than or equal to, less than, and less than or equal to."
   ]
  },
  {
   "cell_type": "code",
   "execution_count": 19,
   "id": "89ceaa68",
   "metadata": {},
   "outputs": [
    {
     "name": "stdout",
     "output_type": "stream",
     "text": [
      "5\n",
      "False\n"
     ]
    }
   ],
   "source": [
    "#6. How do you tell the difference between the equal to and assignment operators?Describe a\n",
    "#condition and when you would use one.\n",
    "#Ans:The “=” is an assignment operator is used to assign the value on the right to the variable on the left. \n",
    "#    The '==' operator checks whether the two given operands are equal or not. If so, it returns true. Otherwise \n",
    "#    it returns false.\n",
    "#   Example:\n",
    "a=5\n",
    "print(a) #assignment operater so print value of a.\n",
    "print(a==4) #equal to operater used to check condition is true or false\n",
    " "
   ]
  },
  {
   "cell_type": "markdown",
   "id": "7b51efad",
   "metadata": {},
   "source": [
    "7. Identify the three blocks in this code:\n",
    "\n",
    "spam = 0\n",
    "if spam == 10:  1 block\n",
    "print('eggs')   \n",
    "if spam > 5:    2 block\n",
    "print('bacon')  \n",
    "else:           3 block \n",
    "print('ham')\n",
    "print('spam')\n",
    "print('spam')"
   ]
  },
  {
   "cell_type": "code",
   "execution_count": 21,
   "id": "fc12fb29",
   "metadata": {},
   "outputs": [
    {
     "name": "stdout",
     "output_type": "stream",
     "text": [
      "Please Enter Int: 3\n",
      "Greetings!\n"
     ]
    }
   ],
   "source": [
    "#8. Write code that prints Hello if 1 is stored in spam, prints Howdy if 2 is stored in spam, and prints\n",
    "#Greetings! if anything else is stored in spam.\n",
    "spam = int(input('Please Enter Int: '))\n",
    "if spam == 1:  \n",
    "    print('Hello')   \n",
    "if spam == 2:   \n",
    "    print('Howdy')  \n",
    "else:            \n",
    "    print('Greetings!')\n"
   ]
  },
  {
   "cell_type": "markdown",
   "id": "f38ac068",
   "metadata": {},
   "source": [
    "9. If your programme is stuck in an endless loop, what keys you’ll press?\n",
    "\n",
    "Ans:Ctrl+c"
   ]
  },
  {
   "cell_type": "markdown",
   "id": "af7c0b62",
   "metadata": {},
   "source": [
    "10. How can you tell the difference between break and continue?\n",
    "\n",
    "Ans:\n",
    "break:1)It eliminates the execution of remaining iteration of loop. \n",
    "      2)‘break’ will resume control of program to the end of loop enclosing that ‘break’. \n",
    "      3)It early terminates the loop. \n",
    "      4)The ‘break ‘stop the continuation of the loop.\n",
    "continue:1)It will terminate only the current iteration of loop. \n",
    "         2)The ‘continue’ will resume the control of the program to next iteration of that loop enclosing ‘continue'. \n",
    "         3)It causes the early execution of the next iteration. \n",
    "         4)The ‘continue’ does not stop the continuation of loop and it stops the current. \n"
   ]
  },
  {
   "cell_type": "markdown",
   "id": "dd6adc2e",
   "metadata": {},
   "source": [
    "11. In a for loop, what is the difference between range(10), range(0, 10), and range(0, 10, 1)?\n",
    "\n",
    "Ans:\n",
    "range(10) call range from 0 to 9.\n",
    "range(0,10) range start from 0 to ends at 9\n",
    "range(0,10,1) range satrt from 0 to ends at 10 at increase variable by 1."
   ]
  },
  {
   "cell_type": "code",
   "execution_count": 22,
   "id": "235d49b1",
   "metadata": {},
   "outputs": [
    {
     "name": "stdout",
     "output_type": "stream",
     "text": [
      "1\n",
      "2\n",
      "3\n",
      "4\n",
      "5\n",
      "6\n",
      "7\n",
      "8\n",
      "9\n",
      "10\n",
      "1\n",
      "2\n",
      "3\n",
      "4\n",
      "5\n",
      "6\n",
      "7\n",
      "8\n",
      "9\n",
      "10\n"
     ]
    }
   ],
   "source": [
    "#12. Write a short program that prints the numbers 1 to 10 using a for loop. Then write an equivalent\n",
    "#program that prints the numbers 1 to 10 using a while loop.\n",
    "#Ans:\n",
    "for i in range(1,11):\n",
    "    print(i)\n",
    "a=1    \n",
    "while a<=10:\n",
    "    print(a)\n",
    "    a +=1"
   ]
  },
  {
   "cell_type": "markdown",
   "id": "668ca182",
   "metadata": {},
   "source": [
    "13. If you had a function named bacon() inside a module named spam, how would you call it after\n",
    "importing spam?\n",
    "\n",
    "Ans:spam.bacon()"
   ]
  }
 ],
 "metadata": {
  "kernelspec": {
   "display_name": "Python 3 (ipykernel)",
   "language": "python",
   "name": "python3"
  },
  "language_info": {
   "codemirror_mode": {
    "name": "ipython",
    "version": 3
   },
   "file_extension": ".py",
   "mimetype": "text/x-python",
   "name": "python",
   "nbconvert_exporter": "python",
   "pygments_lexer": "ipython3",
   "version": "3.9.7"
  }
 },
 "nbformat": 4,
 "nbformat_minor": 5
}
