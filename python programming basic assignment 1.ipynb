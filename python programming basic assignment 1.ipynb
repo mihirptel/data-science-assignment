{
 "cells": [
  {
   "cell_type": "code",
   "execution_count": 1,
   "id": "ab39c1aa",
   "metadata": {},
   "outputs": [
    {
     "name": "stdout",
     "output_type": "stream",
     "text": [
      "hello python\n"
     ]
    }
   ],
   "source": [
    "#1. Write a Python program to print \"Hello Python\"?\n",
    "print('hello python')"
   ]
  },
  {
   "cell_type": "code",
   "execution_count": 4,
   "id": "b65bd8f8",
   "metadata": {},
   "outputs": [
    {
     "name": "stdout",
     "output_type": "stream",
     "text": [
      "Please input integer: 2\n",
      "Please input integer: 3\n",
      "addition: 5\n",
      "division: 0.6666666666666666\n"
     ]
    }
   ],
   "source": [
    "#2. Write a Python program to do arithmetical operations addition and division.?\n",
    "a=int(input('Please input integer: '))\n",
    "b=int(input('Please input integer: '))\n",
    "print('addition:',a+b)\n",
    "print('division:',a/b)"
   ]
  },
  {
   "cell_type": "code",
   "execution_count": 5,
   "id": "19da0d58",
   "metadata": {},
   "outputs": [
    {
     "name": "stdout",
     "output_type": "stream",
     "text": [
      "please enter height of triangle: 10\n",
      "please enter base of triangle: 10\n",
      "area of triangle:  50.0\n"
     ]
    }
   ],
   "source": [
    "#3. Write a Python program to find the area of a triangle?\n",
    "height=int(input('please enter height of triangle: '))\n",
    "base=int(input('please enter base of triangle: '))\n",
    "x=(height*base)/2\n",
    "print('area of triangle: ',x)"
   ]
  },
  {
   "cell_type": "code",
   "execution_count": 6,
   "id": "6a840079",
   "metadata": {},
   "outputs": [
    {
     "name": "stdout",
     "output_type": "stream",
     "text": [
      "10\n",
      "20\n",
      "10\n",
      "20\n",
      "20\n",
      "10\n"
     ]
    }
   ],
   "source": [
    "#4. Write a Python program to swap two variables?\n",
    "a=input()\n",
    "b=input()\n",
    "#before swapping\n",
    "print(a)\n",
    "print(b)\n",
    "#after swapping\n",
    "c=a\n",
    "a=b\n",
    "b=c\n",
    "print(a)\n",
    "print(b)"
   ]
  },
  {
   "cell_type": "code",
   "execution_count": 12,
   "id": "44b4a6cd",
   "metadata": {},
   "outputs": [
    {
     "name": "stdout",
     "output_type": "stream",
     "text": [
      "2\n"
     ]
    }
   ],
   "source": [
    "#5. Write a Python program to generate a random number?\n",
    "import random\n",
    "list1=[0,1,2,3,4,5,6,7,8,9,10]\n",
    "print(random.choice(list1))\n"
   ]
  },
  {
   "cell_type": "code",
   "execution_count": null,
   "id": "582548b0",
   "metadata": {},
   "outputs": [],
   "source": []
  }
 ],
 "metadata": {
  "kernelspec": {
   "display_name": "Python 3 (ipykernel)",
   "language": "python",
   "name": "python3"
  },
  "language_info": {
   "codemirror_mode": {
    "name": "ipython",
    "version": 3
   },
   "file_extension": ".py",
   "mimetype": "text/x-python",
   "name": "python",
   "nbconvert_exporter": "python",
   "pygments_lexer": "ipython3",
   "version": "3.9.7"
  }
 },
 "nbformat": 4,
 "nbformat_minor": 5
}
