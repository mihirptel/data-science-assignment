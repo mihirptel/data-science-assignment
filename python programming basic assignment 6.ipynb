{
 "cells": [
  {
   "cell_type": "code",
   "execution_count": 12,
   "id": "75901f16",
   "metadata": {},
   "outputs": [
    {
     "name": "stdout",
     "output_type": "stream",
     "text": [
      "please enter int number: 10\n",
      "Fibonacci series\n",
      "0\n",
      "1\n",
      "1\n",
      "2\n",
      "3\n",
      "5\n",
      "8\n",
      "13\n",
      "21\n",
      "34\n"
     ]
    }
   ],
   "source": [
    "#1. Write a Python Program to Display Fibonacci Sequence Using Recursion?\n",
    "f=int(input('please enter int number: '))\n",
    "if f<0:\n",
    "    print('please enter positive value')\n",
    "else:\n",
    "    print('Fibonacci series')\n",
    "def fibonacci(n):\n",
    "    if n<=1:\n",
    "        return n\n",
    "    else:\n",
    "        return (fibonacci(n-1)+fibonacci(n-2))\n",
    "for i in range(10):\n",
    "    print(fibonacci(i))\n"
   ]
  },
  {
   "cell_type": "code",
   "execution_count": 13,
   "id": "63879eb4",
   "metadata": {},
   "outputs": [
    {
     "name": "stdout",
     "output_type": "stream",
     "text": [
      "Please enter number which factorial number you want to find:4\n",
      "factorial of number is: 24\n"
     ]
    }
   ],
   "source": [
    "#2. Write a Python Program to Find Factorial of Number Using Recursion?\n",
    "number=int(input('Please enter number which factorial number you want to find:'))\n",
    "if number==0:\n",
    "    print('factorial of 0 is 1')\n",
    "else:\n",
    "    def factorial(number):\n",
    "        if number<1:\n",
    "            return 1\n",
    "        else:\n",
    "            return number*factorial(number-1)\n",
    "    print('factorial of number is:',factorial(number))"
   ]
  },
  {
   "cell_type": "code",
   "execution_count": 14,
   "id": "717b9a92",
   "metadata": {},
   "outputs": [
    {
     "name": "stdout",
     "output_type": "stream",
     "text": [
      "Please enter weight in kg:72\n",
      "Please enter height in m:1.625\n",
      "your Body mass is: 27.266272189349113\n"
     ]
    }
   ],
   "source": [
    "#3. Write a Python Program to calculate your Body Mass Index?\n",
    "Weight=float(input('Please enter weight in kg:'))\n",
    "Height=float(input('Please enter height in m:'))\n",
    "Body_mass=Weight/(Height*Height)\n",
    "print('your Body mass is:',Body_mass)"
   ]
  },
  {
   "cell_type": "code",
   "execution_count": 15,
   "id": "31aac20e",
   "metadata": {},
   "outputs": [
    {
     "name": "stdout",
     "output_type": "stream",
     "text": [
      "Please enter number:10\n",
      "natural log of n is: 2.302585092994046\n"
     ]
    }
   ],
   "source": [
    "#4. Write a Python Program to calculate the natural logarithm of any number?\n",
    "n=int(input('Please enter number:'))\n",
    "import math\n",
    "natural_log=math.log(n)\n",
    "print('natural log of n is:',natural_log)"
   ]
  },
  {
   "cell_type": "code",
   "execution_count": 2,
   "id": "469cbcf8",
   "metadata": {},
   "outputs": [
    {
     "name": "stdout",
     "output_type": "stream",
     "text": [
      "Please enter number:10\n",
      "cube sum of first 10 natural numbers: 3025.0\n"
     ]
    }
   ],
   "source": [
    "#5. Write a Python Program for cube sum of first n natural numbers?\n",
    "n=int(input('Please enter number:'))\n",
    "cube_sum=((n*(n+1))/2)*((n*(n+1))/2)\n",
    "print('cube sum of first', n,'natural numbers:',cube_sum)"
   ]
  }
 ],
 "metadata": {
  "kernelspec": {
   "display_name": "Python 3 (ipykernel)",
   "language": "python",
   "name": "python3"
  },
  "language_info": {
   "codemirror_mode": {
    "name": "ipython",
    "version": 3
   },
   "file_extension": ".py",
   "mimetype": "text/x-python",
   "name": "python",
   "nbconvert_exporter": "python",
   "pygments_lexer": "ipython3",
   "version": "3.9.7"
  }
 },
 "nbformat": 4,
 "nbformat_minor": 5
}
